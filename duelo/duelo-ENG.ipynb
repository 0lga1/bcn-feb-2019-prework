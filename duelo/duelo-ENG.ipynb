{
 "cells": [
  {
   "cell_type": "markdown",
   "metadata": {},
   "source": [
    "# Duelo de magos\n",
    "Estás presenciando una batalla épica entre dos poderosos magos: Gandalf y Saruman. Cada mago tiene 10 hechizos de potencia variable en su mente y los van a lanzar uno tras otro. El ganador del duelo será el que gane más de esos choques entre hechizos. Los hechizos se representan como una lista de 10 números enteros cuyo valor equivale a la potencia del hechizo. \n",
    "```\n",
    "gandalf = [10, 11, 13, 30, 22, 11, 10, 33, 22, 22]\n",
    "saruman = [23, 66, 12, 43, 12, 10, 44, 23, 12, 17]\n",
    "```\n",
    "Por ejemplo: \n",
    "1. El primer choque lo gana Saruman: 10 contra 23, gana el 23\n",
    "2. El segundo choque gana Saruman: 11 contra 66, gana el 66\n",
    "3. etc.\n",
    "\n",
    "\n",
    "Vas a crear dos variables, una por cada mago, donde se almacenarán la suma de choques de hechizos ganados. En función de qué variable sea mayor al final del duelo, mostrarás por pantalla uno de los tres siguientes resultados: \n",
    "* Gandalf gana\n",
    "* Saruman gana\n",
    "* Empate\n"
   ]
  },
  {
   "cell_type": "markdown",
   "metadata": {},
   "source": [
    "# Duel of sorcerers\n",
    "You are witnessing an epic battle between two powerful sorcerers: Gandalf and Saruman. Each sorcerer has 10 spells of variable power in their mind and they are going to throw them one after the other. The winner of the duel will be the one who wins more of those clashes between spells. Spells are represented as a list of 10 integers whose value equals the power of the spell.\n",
    "```\n",
    "gandalf = [10, 11, 13, 30, 22, 11, 10, 33, 22, 22]\n",
    "saruman = [23, 66, 12, 43, 12, 10, 44, 23, 12, 17]\n",
    "```\n",
    "For example:\n",
    "1. The first match is won by Saruman: 10 against 23, wins 23\n",
    "2. The second match is won by Saruman: 11 against 66, wins 66\n",
    "3. etc.\n",
    "\n",
    "\n",
    "You will create two variables, one for each sorcerer, where the sum of the wins will be stored. Depending on which variable is greater at the end of the duel, you will print one of the following three results on the screen:\n",
    "* Gandalf wins\n",
    "* Saruman wins\n",
    "* Tie\n",
    "\n"
   ]
  },
  {
   "cell_type": "markdown",
   "metadata": {},
   "source": [
    "## Solución"
   ]
  },
  {
   "cell_type": "code",
   "execution_count": 1,
   "metadata": {},
   "outputs": [],
   "source": [
    "# Assign spell lists to variables\n",
    "gandalf = [10, 11, 13, 30, 22, 11, 10, 33, 22, 22]\n",
    "saruman = [23, 66, 12, 43, 12, 10, 44, 23, 12, 17]\n",
    "\n",
    "# We assign 0 to each variable that stores the victories\n",
    "\n",
    "\n",
    "# Execution of spell clashes\n",
    "\n",
    "\n",
    "# We check who has won, do not forget the possibility of a draw.\n",
    "# Print the result based on the winner.\n",
    "\n"
   ]
  },
  {
   "cell_type": "markdown",
   "metadata": {},
   "source": [
    "## Goals\n",
    "\n",
    "1. Treatment of lists\n",
    "2. Use of loop **for**\n",
    "3. Use of conditional **if-elif-else**\n",
    "4. Use of the functions **range (), len ()**\n",
    "5. Print by console"
   ]
  },
  {
   "cell_type": "code",
   "execution_count": null,
   "metadata": {},
   "outputs": [],
   "source": []
  }
 ],
 "metadata": {
  "kernelspec": {
   "display_name": "Python 3",
   "language": "python",
   "name": "python3"
  },
  "language_info": {
   "codemirror_mode": {
    "name": "ipython",
    "version": 3
   },
   "file_extension": ".py",
   "mimetype": "text/x-python",
   "name": "python",
   "nbconvert_exporter": "python",
   "pygments_lexer": "ipython3",
   "version": "3.6.7"
  }
 },
 "nbformat": 4,
 "nbformat_minor": 2
}
